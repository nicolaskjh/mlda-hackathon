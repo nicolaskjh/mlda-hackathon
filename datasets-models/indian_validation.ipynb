{
 "cells": [
  {
   "cell_type": "code",
   "execution_count": null,
   "id": "8365e748",
   "metadata": {},
   "outputs": [],
   "source": [
    "import pandas as pd\n",
    "import joblib\n",
    "from sklearn.metrics import accuracy_score, classification_report\n",
    "\n",
    "# Load the preprocessed dataset for validation\n",
    "file_path = \"indian_diabetes_preprocessed.csv\"\n",
    "df_new = pd.read_csv(file_path)\n",
    "\n",
    "# Load the trained Random Forest model\n",
    "rf_model = joblib.load(\"random_forest_model.pkl\")\n",
    "\n",
    "# Ensure feature set matches training data\n",
    "expected_columns = ['Glucose', 'BloodPressure', 'SkinThickness', 'Insulin', 'BMI', 'Age', 'Pregnancies']\n",
    "\n",
    "# Drop 'Outcome' if present and reorder columns\n",
    "if 'Outcome' in df_new.columns:\n",
    "    df_new_X = df_new.drop(columns=['Outcome'])\n",
    "    y_true = df_new['Outcome']\n",
    "else:\n",
    "    df_new_X = df_new.copy()\n",
    "    y_true = None\n",
    "\n",
    "df_new_X = df_new_X[expected_columns]\n",
    "\n",
    "# Make predictions\n",
    "y_pred = rf_model.predict(df_new_X)\n",
    "y_pred_proba = rf_model.predict_proba(df_new_X)[:, 1]\n",
    "\n",
    "# Store predictions in the dataframe\n",
    "df_new[\"Predicted_Outcome\"] = y_pred\n",
    "df_new[\"Diabetes_Probability\"] = y_pred_proba\n",
    "\n",
    "# Evaluate performance if labels exist\n",
    "if y_true is not None:\n",
    "    print(\"Accuracy:\", accuracy_score(y_true, y_pred))\n",
    "    print(\"Classification Report:\\n\", classification_report(y_true, y_pred))\n",
    "\n",
    "# Save predictions to a new CSV file\n",
    "df_new.to_csv(\"indian_diabetes_predictions.csv\", index=False)\n",
    "\n",
    "print(\"Validation complete. Predictions saved in 'indian_diabetes_predictions.csv'.\")"
   ]
  },
  {
   "cell_type": "code",
   "execution_count": null,
   "id": "b93614ae",
   "metadata": {},
   "outputs": [],
   "source": []
  }
 ],
 "metadata": {
  "kernelspec": {
   "display_name": "Python 3 (ipykernel)",
   "language": "python",
   "name": "python3"
  },
  "language_info": {
   "codemirror_mode": {
    "name": "ipython",
    "version": 3
   },
   "file_extension": ".py",
   "mimetype": "text/x-python",
   "name": "python",
   "nbconvert_exporter": "python",
   "pygments_lexer": "ipython3",
   "version": "3.11.5"
  }
 },
 "nbformat": 4,
 "nbformat_minor": 5
}
